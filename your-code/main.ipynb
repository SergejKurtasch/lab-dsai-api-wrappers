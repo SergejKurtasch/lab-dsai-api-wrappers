{
 "cells": [
  {
   "cell_type": "markdown",
   "id": "bd0a3905-b346-43d5-9791-d3869299eb9d",
   "metadata": {},
   "source": [
    "# API wrappers"
   ]
  },
  {
   "cell_type": "markdown",
   "id": "327b4075-5374-4ecf-b8c5-c106d20d80e1",
   "metadata": {},
   "source": [
    "The OpenWeatherMap offers REST endpoints for querying current weather, forecasts, historical data, etc. However, accessing this data directly via the REST API requires handling multiple API calls, query parameters, and response parsing. The pyowm library abstracts these complexities and provides useful built-in functionalities."
   ]
  },
  {
   "cell_type": "markdown",
   "id": "1d731d49-fd79-44c8-8f72-68194c99fec0",
   "metadata": {},
   "source": [
    "After signing in to OpenWeatherMap retrieve your api key at https://home.openweathermap.org/api_keys\n",
    "\n",
    "You will also need to install the pyowm package: pip install pyowm "
   ]
  },
  {
   "cell_type": "code",
   "execution_count": 40,
   "id": "63b327b1-338b-4b14-a5b5-1bd8741da64b",
   "metadata": {},
   "outputs": [],
   "source": [
    "import requests\n",
    "import pyowm\n",
    "import json\n",
    "\n",
    "api_key = 'a40d1f6f7bde55793059a76a8dd8062c'"
   ]
  },
  {
   "cell_type": "markdown",
   "id": "f73d3029-c6a6-43b9-81a9-0e81c13bdf09",
   "metadata": {},
   "source": [
    "## use case 1: managing API keys\n",
    "\n",
    "In a raw rest API call you always have to manage credentials in each individual call. Wrappers usually store and manage the authentication for you"
   ]
  },
  {
   "cell_type": "code",
   "execution_count": 41,
   "id": "afbcdf71-845e-4aae-b8cc-8963745f7d4b",
   "metadata": {},
   "outputs": [
    {
     "data": {
      "text/plain": [
       "{'coord': {'lon': -0.1257, 'lat': 51.5085},\n",
       " 'weather': [{'id': 803,\n",
       "   'main': 'Clouds',\n",
       "   'description': 'broken clouds',\n",
       "   'icon': '04d'}],\n",
       " 'base': 'stations',\n",
       " 'main': {'temp': 287.84,\n",
       "  'feels_like': 287.01,\n",
       "  'temp_min': 285.71,\n",
       "  'temp_max': 288.76,\n",
       "  'pressure': 1023,\n",
       "  'humidity': 63,\n",
       "  'sea_level': 1023,\n",
       "  'grnd_level': 1017},\n",
       " 'visibility': 10000,\n",
       " 'wind': {'speed': 1.34, 'deg': 53, 'gust': 2.68},\n",
       " 'clouds': {'all': 79},\n",
       " 'dt': 1745497757,\n",
       " 'sys': {'type': 2,\n",
       "  'id': 268730,\n",
       "  'country': 'GB',\n",
       "  'sunrise': 1745469938,\n",
       "  'sunset': 1745521877},\n",
       " 'timezone': 3600,\n",
       " 'id': 2643743,\n",
       " 'name': 'London',\n",
       " 'cod': 200}"
      ]
     },
     "execution_count": 41,
     "metadata": {},
     "output_type": "execute_result"
    }
   ],
   "source": [
    "#You can get current weather data by making a GET request to an endpoint like:\n",
    "\n",
    "params = {\n",
    "    'appid' : api_key\n",
    "\n",
    "}\n",
    "\n",
    "response = requests.get('https://api.openweathermap.org/data/2.5/weather?q=London', params = params)\n",
    "\n",
    "json.loads(response.text)\n",
    "\n",
    "#but for every call you make using GET from now on you do need to add the parameters, since the raw API does not manage authentication for you"
   ]
  },
  {
   "cell_type": "markdown",
   "id": "b82c585b-fd83-4f59-9d46-14225f3e5037",
   "metadata": {},
   "source": [
    "Most wrappers (pyowm included) include some way of initializing a session with the authentication key that you then don't need to type again.\n",
    "\n",
    "Initialize pyowm with the default configuration. Thenopen the weather manager\n",
    "\n",
    "Check out a snippet here: https://pyowm.readthedocs.io/en/latest/v3/code-recipes.html#weather_data"
   ]
  },
  {
   "cell_type": "code",
   "execution_count": 45,
   "id": "f376d466-5a69-4a47-b35d-1870cbef61ff",
   "metadata": {},
   "outputs": [
    {
     "name": "stdout",
     "output_type": "stream",
     "text": [
      "ясно\n"
     ]
    }
   ],
   "source": [
    "#your code here\n",
    "from pyowm.owm import OWM\n",
    "from pyowm.utils.config import get_default_config\n",
    "\n",
    "config_dict = get_default_config()\n",
    "config_dict['language'] = 'ru'  # your language here, eg. French\n",
    "owm = OWM(api_key, config_dict)\n",
    "mgr = owm.weather_manager()\n",
    "observation = mgr.weather_at_place('Berlin, Germany')\n",
    "print(observation.weather.detailed_status)\n"
   ]
  },
  {
   "cell_type": "markdown",
   "id": "840060e4-d3de-4b96-bb03-5bce02003f1d",
   "metadata": {},
   "source": [
    "## use case 2: Simplified calls\n",
    "\n",
    "With the raw REST API, you'd have to build a URL manually, send the request, and parse the JSON response to get the current weather."
   ]
  },
  {
   "cell_type": "code",
   "execution_count": 25,
   "id": "a2aa8395-0bed-4098-8881-0ffe93541b1f",
   "metadata": {},
   "outputs": [
    {
     "name": "stdout",
     "output_type": "stream",
     "text": [
      "Temperature: 286.95°F, Humidity: 64%, Wind Speed: 3.09 m/s\n"
     ]
    }
   ],
   "source": [
    "city = 'London'\n",
    "url = f'http://api.openweathermap.org/data/2.5/weather?q={city}'\n",
    "\n",
    "response = requests.get(url,params= params)\n",
    "data = response.json()\n",
    "temperature = data['main']['temp']\n",
    "humidity = data['main']['humidity']\n",
    "wind_speed = data['wind']['speed']\n",
    "\n",
    "print(f\"Temperature: {temperature}°K, Humidity: {humidity}%, Wind Speed: {wind_speed} m/s\")"
   ]
  },
  {
   "cell_type": "markdown",
   "id": "df5bc6df-bfb2-416d-8d06-3961d3a12234",
   "metadata": {},
   "source": [
    "Get the equivalent call as above for the city of London using the pyowm package"
   ]
  },
  {
   "cell_type": "code",
   "execution_count": 35,
   "id": "d1986770-4628-480b-b587-9ff5c42d301c",
   "metadata": {},
   "outputs": [
    {
     "data": {
      "text/plain": [
       "'облачно с прояснениями'"
      ]
     },
     "metadata": {},
     "output_type": "display_data"
    },
    {
     "data": {
      "text/plain": [
       "{'temp': 14.37,\n",
       " 'temp_max': 15.1,\n",
       " 'temp_min': 12.06,\n",
       " 'feels_like': 13.51,\n",
       " 'temp_kf': None}"
      ]
     },
     "metadata": {},
     "output_type": "display_data"
    }
   ],
   "source": [
    "#your code here\n",
    "observation = mgr.weather_at_place('London,GB')  # the observation object is a box containing a weather object\n",
    "weather = observation.weather\n",
    "weather.status           # short version of status (eg. 'Rain')\n",
    "display(weather.detailed_status)\n",
    "temp_dict_celsius = weather.temperature('celsius')\n",
    "display(temp_dict_celsius)"
   ]
  },
  {
   "cell_type": "markdown",
   "id": "7e7b93b2-c383-4e49-8fce-a0923ac59031",
   "metadata": {},
   "source": [
    "## use case 3: Combining and chaining calls\n",
    "\n",
    "Wrappers often offer methods that make multiple calls to batch requests that make sense to batch. And often they offer methods that make sequences of calls that each returns information necessary to make the next call."
   ]
  },
  {
   "cell_type": "markdown",
   "id": "8f4a6b6c-f397-48ce-a3ef-f88e1fb95eb9",
   "metadata": {},
   "source": [
    "For example, to get a weather forecast for a specific city using the raw API you need to first geocode the city to get its latitude and longitude:"
   ]
  },
  {
   "cell_type": "code",
   "execution_count": 38,
   "id": "d182cf31-80f8-4b61-8de0-897d2d6479d7",
   "metadata": {},
   "outputs": [
    {
     "data": {
      "text/plain": [
       "{'coord': {'lon': -74.006, 'lat': 40.7143},\n",
       " 'weather': [{'id': 711,\n",
       "   'main': 'Smoke',\n",
       "   'description': 'smoke',\n",
       "   'icon': '50d'}],\n",
       " 'base': 'stations',\n",
       " 'main': {'temp': 289.15,\n",
       "  'feels_like': 288.16,\n",
       "  'temp_min': 287.01,\n",
       "  'temp_max': 290.92,\n",
       "  'pressure': 1025,\n",
       "  'humidity': 52,\n",
       "  'sea_level': 1025,\n",
       "  'grnd_level': 1025},\n",
       " 'visibility': 10000,\n",
       " 'wind': {'speed': 3.09, 'deg': 80},\n",
       " 'clouds': {'all': 0},\n",
       " 'dt': 1745497742,\n",
       " 'sys': {'type': 1,\n",
       "  'id': 4610,\n",
       "  'country': 'US',\n",
       "  'sunrise': 1745489012,\n",
       "  'sunset': 1745538260},\n",
       " 'timezone': -14400,\n",
       " 'id': 5128581,\n",
       " 'name': 'New York',\n",
       " 'cod': 200}"
      ]
     },
     "metadata": {},
     "output_type": "display_data"
    }
   ],
   "source": [
    "city = 'New York'\n",
    "geocode_url = f'http://api.openweathermap.org/data/2.5/weather?q={city}'\n",
    "geocode_response = requests.get(geocode_url,params=params).json()\n",
    "\n",
    "display(geocode_response)\n",
    "\n",
    "lat = geocode_response['coord']['lat']\n",
    "lon = geocode_response['coord']['lon']"
   ]
  },
  {
   "cell_type": "markdown",
   "id": "547c5deb-1070-4b72-b035-32ea5a615eda",
   "metadata": {},
   "source": [
    "Then, request the weather forecast for that latitude/longitude:"
   ]
  },
  {
   "cell_type": "code",
   "execution_count": 37,
   "id": "03737eff-cbc6-412f-b6a1-03e28b39b1e4",
   "metadata": {},
   "outputs": [
    {
     "name": "stdout",
     "output_type": "stream",
     "text": [
      "Time: 2025-04-24 15:00:00, Temp: 290.44°C\n",
      "Time: 2025-04-24 18:00:00, Temp: 295.27°C\n",
      "Time: 2025-04-24 21:00:00, Temp: 297.69°C\n",
      "Time: 2025-04-25 00:00:00, Temp: 293.31°C\n",
      "Time: 2025-04-25 03:00:00, Temp: 289.3°C\n",
      "Time: 2025-04-25 06:00:00, Temp: 290.02°C\n",
      "Time: 2025-04-25 09:00:00, Temp: 288.46°C\n",
      "Time: 2025-04-25 12:00:00, Temp: 288.98°C\n",
      "Time: 2025-04-25 15:00:00, Temp: 293.56°C\n",
      "Time: 2025-04-25 18:00:00, Temp: 293.35°C\n",
      "Time: 2025-04-25 21:00:00, Temp: 291.68°C\n",
      "Time: 2025-04-26 00:00:00, Temp: 290.58°C\n",
      "Time: 2025-04-26 03:00:00, Temp: 288.43°C\n",
      "Time: 2025-04-26 06:00:00, Temp: 288.25°C\n",
      "Time: 2025-04-26 09:00:00, Temp: 287.84°C\n",
      "Time: 2025-04-26 12:00:00, Temp: 288.97°C\n",
      "Time: 2025-04-26 15:00:00, Temp: 290.59°C\n",
      "Time: 2025-04-26 18:00:00, Temp: 294.25°C\n",
      "Time: 2025-04-26 21:00:00, Temp: 291.5°C\n",
      "Time: 2025-04-27 00:00:00, Temp: 287.17°C\n",
      "Time: 2025-04-27 03:00:00, Temp: 284.06°C\n",
      "Time: 2025-04-27 06:00:00, Temp: 282.73°C\n",
      "Time: 2025-04-27 09:00:00, Temp: 282.71°C\n",
      "Time: 2025-04-27 12:00:00, Temp: 283.14°C\n",
      "Time: 2025-04-27 15:00:00, Temp: 285.11°C\n",
      "Time: 2025-04-27 18:00:00, Temp: 288.65°C\n",
      "Time: 2025-04-27 21:00:00, Temp: 291.13°C\n",
      "Time: 2025-04-28 00:00:00, Temp: 288.9°C\n",
      "Time: 2025-04-28 03:00:00, Temp: 286.5°C\n",
      "Time: 2025-04-28 06:00:00, Temp: 285.32°C\n",
      "Time: 2025-04-28 09:00:00, Temp: 284.42°C\n",
      "Time: 2025-04-28 12:00:00, Temp: 285.53°C\n",
      "Time: 2025-04-28 15:00:00, Temp: 290.92°C\n",
      "Time: 2025-04-28 18:00:00, Temp: 294.88°C\n",
      "Time: 2025-04-28 21:00:00, Temp: 295.3°C\n",
      "Time: 2025-04-29 00:00:00, Temp: 293.16°C\n",
      "Time: 2025-04-29 03:00:00, Temp: 290.55°C\n",
      "Time: 2025-04-29 06:00:00, Temp: 289.06°C\n",
      "Time: 2025-04-29 09:00:00, Temp: 288.02°C\n",
      "Time: 2025-04-29 12:00:00, Temp: 288.91°C\n"
     ]
    }
   ],
   "source": [
    "forecast_url = f'http://api.openweathermap.org/data/2.5/forecast?lat={lat}&lon={lon}'\n",
    "forecast_response = requests.get(forecast_url, params=params).json()\n",
    "\n",
    "for entry in forecast_response['list']:\n",
    "    print(f\"Time: {entry['dt_txt']}, Temp: {entry['main']['temp']}°C\")"
   ]
  },
  {
   "cell_type": "markdown",
   "id": "f75ab558-7500-40fa-a4aa-93a18053059a",
   "metadata": {},
   "source": [
    "Two calls: one for geocoding, one for forecasts.\n",
    "But with pyowm, because this is a common operation, there is a method that handles the geocoding internally and then fetches the weather forecast in one step.\n",
    "\n",
    "Get the above forecast in a single call using pyowm.\n",
    "\n",
    "Hint: search for \"forecast_at_place\" in the code recipies of the documentation"
   ]
  },
  {
   "cell_type": "code",
   "execution_count": 70,
   "id": "11e3c1a8-260d-467c-8f47-793fd62a239b",
   "metadata": {},
   "outputs": [
    {
     "data": {
      "text/plain": [
       "{'reference_time': 1745604000,\n",
       " 'sunset_time': None,\n",
       " 'sunrise_time': None,\n",
       " 'clouds': 90,\n",
       " 'rain': {},\n",
       " 'snow': {},\n",
       " 'wind': {'speed': 4.92, 'deg': 20, 'gust': 7.79},\n",
       " 'humidity': 46,\n",
       " 'pressure': {'press': 1020, 'sea_level': 1020},\n",
       " 'temperature': {'temp': 285.44,\n",
       "  'temp_kf': 0,\n",
       "  'temp_max': 285.44,\n",
       "  'temp_min': 285.44,\n",
       "  'feels_like': 283.93},\n",
       " 'status': 'Clouds',\n",
       " 'detailed_status': 'пасмурно',\n",
       " 'weather_code': 804,\n",
       " 'weather_icon_name': '04d',\n",
       " 'visibility_distance': 10000,\n",
       " 'dewpoint': None,\n",
       " 'humidex': None,\n",
       " 'heat_index': None,\n",
       " 'utc_offset': None,\n",
       " 'uvi': None,\n",
       " 'precipitation_probability': 0}"
      ]
     },
     "execution_count": 70,
     "metadata": {},
     "output_type": "execute_result"
    }
   ],
   "source": [
    "#your code here\n",
    "from pyowm.utils import timestamps\n",
    "import pprint\n",
    "\n",
    "mgr = owm.weather_manager()\n",
    "h3_forecast = mgr.forecast_at_place('Berlin,DE', '3h')\n",
    "tomorrow_at_five = timestamps.tomorrow(17, 0)                      # datetime object for tomorrow at 5 PM\n",
    "weather = h3_forecast.get_weather_at(tomorrow_at_five) \n",
    "weather_data = weather.to_dict()\n",
    "weather_data\n"
   ]
  },
  {
   "cell_type": "markdown",
   "id": "7ab2b0cc-0d16-4da5-be3e-b8466faecca3",
   "metadata": {},
   "source": [
    "## use case 4: Convenience methods\n",
    "\n",
    "Wrappers often offer built-in methods to handle common kinds of tasks related to the APIs, reducing the need for manual calculations.\n",
    "\n",
    "for example converting units (e.g., temperature from Celsius to Fahrenheit) or working with more complex data requires manual conversion when using the raw API."
   ]
  },
  {
   "cell_type": "code",
   "execution_count": null,
   "id": "c8e68dad-a503-49cf-9c1e-72e9ed1fab3d",
   "metadata": {},
   "outputs": [],
   "source": [
    "city = 'London'\n",
    "url = f'http://api.openweathermap.org/data/2.5/weather?q={city}&appid={api_key}'\n",
    "\n",
    "response = requests.get(url)\n",
    "data = response.json()\n",
    "temperature_celsius = data['main']['temp']\n",
    "temperature_fahrenheit = (temperature_celsius * 9/5) + 32\n",
    "\n",
    "print(f\"Temperature in Celsius: {temperature_celsius}°C, Fahrenheit: {temperature_fahrenheit}°F\")"
   ]
  },
  {
   "cell_type": "markdown",
   "id": "9b05658c-e9cb-491d-8554-ab4d6dd56e1d",
   "metadata": {},
   "source": [
    "But the pyowm wrapper offers built-in methods to handle these kinds of tasks, reducing the need for manual calculations.\n",
    "Get the temperature both in Celcius and Farenheit using pyowm. Navigate the code recipes to figure out the inbuilt methods for this."
   ]
  },
  {
   "cell_type": "code",
   "execution_count": 74,
   "id": "4695bb83-bc35-4c1b-b390-5ea2027984ef",
   "metadata": {},
   "outputs": [
    {
     "name": "stdout",
     "output_type": "stream",
     "text": [
      "temp 30.96°C, Fahrenheit: 87.73°F\n"
     ]
    }
   ],
   "source": [
    "#your code here\n",
    "observation = mgr.weather_at_place('Dubai')  # the observation object is a box containing a weather object\n",
    "weather = observation.weather\n",
    "weather.status           # short version of status (eg. 'Rain')\n",
    "\n",
    "temp_dict_celsius = weather.temperature('celsius')\n",
    "temp_dict_farenheit = weather.temperature('fahrenheit')\n",
    "print(f\"temp {temp_dict_celsius['temp']}°C, Fahrenheit: {temp_dict_farenheit['temp']}°F\")"
   ]
  }
 ],
 "metadata": {
  "kernelspec": {
   "display_name": "Python 3",
   "language": "python",
   "name": "python3"
  },
  "language_info": {
   "codemirror_mode": {
    "name": "ipython",
    "version": 3
   },
   "file_extension": ".py",
   "mimetype": "text/x-python",
   "name": "python",
   "nbconvert_exporter": "python",
   "pygments_lexer": "ipython3",
   "version": "3.9.6"
  }
 },
 "nbformat": 4,
 "nbformat_minor": 5
}
